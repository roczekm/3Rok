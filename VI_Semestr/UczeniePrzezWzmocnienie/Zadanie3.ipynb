{
  "nbformat": 4,
  "nbformat_minor": 0,
  "metadata": {
    "colab": {
      "name": "Zadanie3.ipynb",
      "provenance": []
    },
    "kernelspec": {
      "name": "python3",
      "display_name": "Python 3"
    }
  },
  "cells": [
    {
      "cell_type": "code",
      "metadata": {
        "id": "IWdXoQc7fYEU",
        "colab_type": "code",
        "colab": {
          "base_uri": "https://localhost:8080/",
          "height": 71
        },
        "outputId": "a4103e79-c916-4204-cb31-6115a70126e8"
      },
      "source": [
        "from frozen_lake import FrozenLakeEnv\n",
        "import numpy as np\n",
        "\n",
        "env= FrozenLakeEnv()\n",
        "\n",
        "V=np.zeros(16)\n",
        "\n",
        "epochs = 1000 #liczb epok czyli to ile epizodów uwzględnimy w wyliczeniu V (im więcej tym lepiej)\n",
        "alpha = 0.1\n",
        "gamma = 1.0 #bez zdyskontowania\n",
        "\n",
        "for i in range(epochs):\n",
        "  state = 0 #stan poczatkowy w każdym epizodzie\n",
        "  while True:\n",
        "   \n",
        "    action=np.random.randint(4)\n",
        "\n",
        "    next_state=env.P[state][action][0][1]    \n",
        "    if next_state == 15:\n",
        "      R = 1\n",
        "    else:        \n",
        "      R = 0\n",
        "\n",
        "    #modyfikacja wartość V zgodna z TD\n",
        "    V[state] = V[state] + alpha * (R + gamma*V[next_state] - V[state])\n",
        "        \n",
        "    state = next_state\n",
        "\n",
        "    #Jeżeli dotarliśmy do stanu terminalnego - koniec epizodu        \n",
        "    if state == 15 or state == 5 or state == 7 or state == 11 or state == 12:\n",
        "      break\n",
        "print(V)"
      ],
      "execution_count": 3,
      "outputs": [
        {
          "output_type": "stream",
          "text": [
            "[0.01094826 0.0123422  0.02519062 0.00712306 0.01055646 0.\n",
            " 0.04413652 0.         0.02439026 0.10232701 0.14346639 0.\n",
            " 0.         0.26044008 0.60078747 0.        ]\n"
          ],
          "name": "stdout"
        }
      ]
    }
  ]
}